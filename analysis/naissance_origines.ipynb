{
 "cells": [
  {
   "cell_type": "markdown",
   "metadata": {
    "tags": []
   },
   "source": [
    "## Import librairies\n",
    "\n",
    "Libraries list in the document _environment.yml_ ."
   ]
  },
  {
   "cell_type": "code",
   "execution_count": 163,
   "metadata": {
    "tags": []
   },
   "outputs": [],
   "source": [
    "import json\n",
    "import pprint\n",
    "# import numpy as np\n",
    "import matplotlib.pyplot as plt\n",
    "import pandas as pd\n",
    "import seaborn as sns\n",
    "import copy"
   ]
  },
  {
   "cell_type": "code",
   "execution_count": null,
   "metadata": {},
   "outputs": [],
   "source": []
  },
  {
   "cell_type": "markdown",
   "metadata": {},
   "source": [
    "# Prepare data"
   ]
  },
  {
   "cell_type": "markdown",
   "metadata": {},
   "source": [
    "## Open and inspect file\n",
    "In this section, the data are inspected a first time. Here, we import the downloaded Geovistory output.\n",
    "\n",
    "Please verify that the file name corresponds to the downloaded one"
   ]
  },
  {
   "cell_type": "code",
   "execution_count": 106,
   "metadata": {},
   "outputs": [],
   "source": [
    "file = 'data/table-873986-export.json'"
   ]
  },
  {
   "cell_type": "code",
   "execution_count": 107,
   "metadata": {},
   "outputs": [
    {
     "name": "stdout",
     "output_type": "stream",
     "text": [
      "<class 'dict'> \n",
      "-----\n",
      "columns\n",
      "rows\n"
     ]
    }
   ],
   "source": [
    "### Open the file and crate a dictionary in the 'data' file\n",
    "with open(file) as json_file:\n",
    "    data = json.load(json_file)\n",
    "print(type(data), '\\n-----')\n",
    "# noms des objets racine du fichier JSON\n",
    "z = [print(a) for a in data]"
   ]
  },
  {
   "cell_type": "code",
   "execution_count": 108,
   "metadata": {},
   "outputs": [
    {
     "data": {
      "text/plain": [
       "28003"
      ]
     },
     "execution_count": 108,
     "metadata": {},
     "output_type": "execute_result"
    }
   ],
   "source": [
    "### Number of rows\n",
    "rows = data['rows']\n",
    "len(rows)"
   ]
  },
  {
   "cell_type": "code",
   "execution_count": 109,
   "metadata": {},
   "outputs": [
    {
     "name": "stdout",
     "output_type": "stream",
     "text": [
      "{'col_0': 'Entity Preview', 'col_1': 'Birth Date', 'col_2': 'Group'}\n"
     ]
    }
   ],
   "source": [
    "### Get the columns names\n",
    "columns = data['columns']\n",
    "pprint.pprint(columns)"
   ]
  },
  {
   "cell_type": "code",
   "execution_count": 112,
   "metadata": {
    "scrolled": true
   },
   "outputs": [],
   "source": [
    "### Explore\n",
    "# [pprint.pprint(r) for r in rows[99:101]]"
   ]
  },
  {
   "cell_type": "code",
   "execution_count": 114,
   "metadata": {},
   "outputs": [
    {
     "name": "stdout",
     "output_type": "stream",
     "text": [
      "1807 Halbkanton Basel-Stadt\n",
      "1807 Halbkanton Basel-Stadt\n"
     ]
    }
   ],
   "source": [
    "for r in rows[:2]:\n",
    "    print(r['col_1']['values'][0]['value']['timePrimitive']['from']['calGregorian'][:4], r['col_2']['entities'][0]['entity_label'])"
   ]
  },
  {
   "cell_type": "code",
   "execution_count": 115,
   "metadata": {},
   "outputs": [],
   "source": [
    "res_1 = [[r['col_1']['values'][0]['value']['timePrimitive']['from']['calGregorian'][:4], r['col_2']['entities'][0]['entity_label']]\\\n",
    "         for r in rows]"
   ]
  },
  {
   "cell_type": "code",
   "execution_count": 116,
   "metadata": {},
   "outputs": [
    {
     "data": {
      "text/plain": [
       "(28003,\n",
       " [['1807', 'Halbkanton Basel-Stadt'],\n",
       "  ['1807', 'Halbkanton Basel-Stadt'],\n",
       "  ['1811', 'Großherzogtum Baden'],\n",
       "  ['1797', 'Halbkanton Basel-Landschaft']])"
      ]
     },
     "execution_count": 116,
     "metadata": {},
     "output_type": "execute_result"
    }
   ],
   "source": [
    "len(res_1), res_1[:4]"
   ]
  },
  {
   "cell_type": "code",
   "execution_count": 118,
   "metadata": {},
   "outputs": [
    {
     "data": {
      "text/plain": [
       "('1765', 95)"
      ]
     },
     "execution_count": 118,
     "metadata": {},
     "output_type": "execute_result"
    }
   ],
   "source": [
    "### Minimal birth year and maximal age in 1860\n",
    "\n",
    "min([l[0] for l in res_1]), 1860-int(min([l[0] for l in res_1]))"
   ]
  },
  {
   "cell_type": "code",
   "execution_count": 120,
   "metadata": {},
   "outputs": [
    {
     "data": {
      "text/plain": [
       "(11680, 16323)"
      ]
     },
     "execution_count": 120,
     "metadata": {},
     "output_type": "execute_result"
    }
   ],
   "source": [
    "### Separate people from Basel and others\n",
    "\n",
    "age_bas_1860 = []\n",
    "age_ext_1860 = []\n",
    "for l in res_1:\n",
    "    if 'Basel-Stadt' in l[1]:\n",
    "        age_bas_1860.append(1860 - int(l[0]))\n",
    "    else:\n",
    "        age_ext_1860.append(1860 - int(l[0]))\n",
    "len(age_bas_1860), len(age_ext_1860)"
   ]
  },
  {
   "cell_type": "code",
   "execution_count": 121,
   "metadata": {},
   "outputs": [
    {
     "data": {
      "text/plain": [
       "([53, 53, 6, 4], [49, 63, 24, 27])"
      ]
     },
     "execution_count": 121,
     "metadata": {},
     "output_type": "execute_result"
    }
   ],
   "source": [
    "age_bas_1860[:4], age_ext_1860[:4]"
   ]
  },
  {
   "cell_type": "markdown",
   "metadata": {
    "tags": []
   },
   "source": [
    "### Create age classes"
   ]
  },
  {
   "cell_type": "code",
   "execution_count": 149,
   "metadata": {},
   "outputs": [
    {
     "data": {
      "text/plain": [
       "([[96, 100]], 20)"
      ]
     },
     "execution_count": 149,
     "metadata": {},
     "output_type": "execute_result"
    }
   ],
   "source": [
    "i = 1\n",
    "age_classes = []\n",
    "while i < 101:\n",
    "    age_classes.append([i, i+4])\n",
    "    i += 5\n",
    "age_classes[-1:], len(age_classes)"
   ]
  },
  {
   "cell_type": "code",
   "execution_count": 150,
   "metadata": {
    "tags": []
   },
   "outputs": [],
   "source": [
    "cut_list = [l[0] for l in age_classes]"
   ]
  },
  {
   "cell_type": "code",
   "execution_count": 151,
   "metadata": {},
   "outputs": [
    {
     "data": {
      "text/plain": [
       "0    (51, 56]\n",
       "1    (51, 56]\n",
       "2      (1, 6]\n",
       "3      (1, 6]\n",
       "dtype: category\n",
       "Categories (19, interval[int64, right]): [(1, 6] < (6, 11] < (11, 16] < (16, 21] ... (76, 81] < (81, 86] < (86, 91] < (91, 96]]"
      ]
     },
     "execution_count": 151,
     "metadata": {},
     "output_type": "execute_result"
    }
   ],
   "source": [
    "age_bas_1860_cut = pd.Series(pd.cut(age_bas_1860,cut_list))\n",
    "age_bas_1860_cut[:4]"
   ]
  },
  {
   "cell_type": "code",
   "execution_count": 152,
   "metadata": {},
   "outputs": [
    {
     "name": "stdout",
     "output_type": "stream",
     "text": [
      "19 \n",
      "\n",
      " (1, 6]      1233\n",
      "(6, 11]     1109\n",
      "(11, 16]     995\n",
      "(16, 21]     928\n",
      "(21, 26]     829\n",
      "(26, 31]     823\n",
      "(31, 36]     840\n",
      "(36, 41]     815\n",
      "(41, 46]     712\n",
      "(46, 51]     652\n",
      "(51, 56]     663\n",
      "(56, 61]     603\n",
      "(61, 66]     380\n",
      "(66, 71]     249\n",
      "(71, 76]     184\n",
      "(76, 81]      84\n",
      "(81, 86]      24\n",
      "(86, 91]       5\n",
      "(91, 96]       2\n",
      "dtype: int64\n"
     ]
    }
   ],
   "source": [
    "l_bas = age_bas_1860_cut.groupby(age_bas_1860_cut).count()\n",
    "print(len(l_bas), '\\n'*2,l_bas)"
   ]
  },
  {
   "cell_type": "code",
   "execution_count": 153,
   "metadata": {},
   "outputs": [
    {
     "data": {
      "text/plain": [
       "0    (46, 51]\n",
       "1    (61, 66]\n",
       "2    (21, 26]\n",
       "3    (26, 31]\n",
       "dtype: category\n",
       "Categories (19, interval[int64, right]): [(1, 6] < (6, 11] < (11, 16] < (16, 21] ... (76, 81] < (81, 86] < (86, 91] < (91, 96]]"
      ]
     },
     "execution_count": 153,
     "metadata": {},
     "output_type": "execute_result"
    }
   ],
   "source": [
    "age_ext_1860_cut = pd.Series(pd.cut(age_ext_1860,cut_list))\n",
    "age_ext_1860_cut[:4]"
   ]
  },
  {
   "cell_type": "code",
   "execution_count": 154,
   "metadata": {},
   "outputs": [
    {
     "name": "stdout",
     "output_type": "stream",
     "text": [
      "19 \n",
      "\n",
      " (1, 6]       918\n",
      "(6, 11]      896\n",
      "(11, 16]    1161\n",
      "(16, 21]    2525\n",
      "(21, 26]    2740\n",
      "(26, 31]    2008\n",
      "(31, 36]    1552\n",
      "(36, 41]    1151\n",
      "(41, 46]     808\n",
      "(46, 51]     642\n",
      "(51, 56]     549\n",
      "(56, 61]     326\n",
      "(61, 66]     252\n",
      "(66, 71]     159\n",
      "(71, 76]      98\n",
      "(76, 81]      37\n",
      "(81, 86]      15\n",
      "(86, 91]       2\n",
      "(91, 96]       1\n",
      "dtype: int64\n"
     ]
    }
   ],
   "source": [
    "l_ext = age_ext_1860_cut.groupby(age_ext_1860_cut).count()\n",
    "print(len(l_ext), '\\n'*2,l_ext)"
   ]
  },
  {
   "cell_type": "code",
   "execution_count": 155,
   "metadata": {},
   "outputs": [
    {
     "data": {
      "text/plain": [
       "['1, 5', '6, 10', '11, 15', '16, 20']"
      ]
     },
     "execution_count": 155,
     "metadata": {},
     "output_type": "execute_result"
    }
   ],
   "source": [
    "age_classes_str = [m.replace('[','').replace(']','') for m in map(str,age_classes[:-1])]\n",
    "age_classes_str[:4]"
   ]
  },
  {
   "cell_type": "markdown",
   "metadata": {},
   "source": [
    "## Create the data frame "
   ]
  },
  {
   "cell_type": "code",
   "execution_count": 156,
   "metadata": {},
   "outputs": [
    {
     "data": {
      "text/html": [
       "<div>\n",
       "<style scoped>\n",
       "    .dataframe tbody tr th:only-of-type {\n",
       "        vertical-align: middle;\n",
       "    }\n",
       "\n",
       "    .dataframe tbody tr th {\n",
       "        vertical-align: top;\n",
       "    }\n",
       "\n",
       "    .dataframe thead th {\n",
       "        text-align: right;\n",
       "    }\n",
       "</style>\n",
       "<table border=\"1\" class=\"dataframe\">\n",
       "  <thead>\n",
       "    <tr style=\"text-align: right;\">\n",
       "      <th></th>\n",
       "      <th>Age</th>\n",
       "      <th>External</th>\n",
       "      <th>Basel</th>\n",
       "    </tr>\n",
       "  </thead>\n",
       "  <tbody>\n",
       "    <tr>\n",
       "      <th>0</th>\n",
       "      <td>1, 5</td>\n",
       "      <td>918</td>\n",
       "      <td>-1233</td>\n",
       "    </tr>\n",
       "    <tr>\n",
       "      <th>1</th>\n",
       "      <td>6, 10</td>\n",
       "      <td>896</td>\n",
       "      <td>-1109</td>\n",
       "    </tr>\n",
       "    <tr>\n",
       "      <th>2</th>\n",
       "      <td>11, 15</td>\n",
       "      <td>1161</td>\n",
       "      <td>-995</td>\n",
       "    </tr>\n",
       "    <tr>\n",
       "      <th>3</th>\n",
       "      <td>16, 20</td>\n",
       "      <td>2525</td>\n",
       "      <td>-928</td>\n",
       "    </tr>\n",
       "    <tr>\n",
       "      <th>4</th>\n",
       "      <td>21, 25</td>\n",
       "      <td>2740</td>\n",
       "      <td>-829</td>\n",
       "    </tr>\n",
       "    <tr>\n",
       "      <th>5</th>\n",
       "      <td>26, 30</td>\n",
       "      <td>2008</td>\n",
       "      <td>-823</td>\n",
       "    </tr>\n",
       "    <tr>\n",
       "      <th>6</th>\n",
       "      <td>31, 35</td>\n",
       "      <td>1552</td>\n",
       "      <td>-840</td>\n",
       "    </tr>\n",
       "    <tr>\n",
       "      <th>7</th>\n",
       "      <td>36, 40</td>\n",
       "      <td>1151</td>\n",
       "      <td>-815</td>\n",
       "    </tr>\n",
       "    <tr>\n",
       "      <th>8</th>\n",
       "      <td>41, 45</td>\n",
       "      <td>808</td>\n",
       "      <td>-712</td>\n",
       "    </tr>\n",
       "    <tr>\n",
       "      <th>9</th>\n",
       "      <td>46, 50</td>\n",
       "      <td>642</td>\n",
       "      <td>-652</td>\n",
       "    </tr>\n",
       "    <tr>\n",
       "      <th>10</th>\n",
       "      <td>51, 55</td>\n",
       "      <td>549</td>\n",
       "      <td>-663</td>\n",
       "    </tr>\n",
       "    <tr>\n",
       "      <th>11</th>\n",
       "      <td>56, 60</td>\n",
       "      <td>326</td>\n",
       "      <td>-603</td>\n",
       "    </tr>\n",
       "    <tr>\n",
       "      <th>12</th>\n",
       "      <td>61, 65</td>\n",
       "      <td>252</td>\n",
       "      <td>-380</td>\n",
       "    </tr>\n",
       "    <tr>\n",
       "      <th>13</th>\n",
       "      <td>66, 70</td>\n",
       "      <td>159</td>\n",
       "      <td>-249</td>\n",
       "    </tr>\n",
       "    <tr>\n",
       "      <th>14</th>\n",
       "      <td>71, 75</td>\n",
       "      <td>98</td>\n",
       "      <td>-184</td>\n",
       "    </tr>\n",
       "    <tr>\n",
       "      <th>15</th>\n",
       "      <td>76, 80</td>\n",
       "      <td>37</td>\n",
       "      <td>-84</td>\n",
       "    </tr>\n",
       "    <tr>\n",
       "      <th>16</th>\n",
       "      <td>81, 85</td>\n",
       "      <td>15</td>\n",
       "      <td>-24</td>\n",
       "    </tr>\n",
       "    <tr>\n",
       "      <th>17</th>\n",
       "      <td>86, 90</td>\n",
       "      <td>2</td>\n",
       "      <td>-5</td>\n",
       "    </tr>\n",
       "    <tr>\n",
       "      <th>18</th>\n",
       "      <td>91, 95</td>\n",
       "      <td>1</td>\n",
       "      <td>-2</td>\n",
       "    </tr>\n",
       "  </tbody>\n",
       "</table>\n",
       "</div>"
      ],
      "text/plain": [
       "       Age  External  Basel\n",
       "0     1, 5       918  -1233\n",
       "1    6, 10       896  -1109\n",
       "2   11, 15      1161   -995\n",
       "3   16, 20      2525   -928\n",
       "4   21, 25      2740   -829\n",
       "5   26, 30      2008   -823\n",
       "6   31, 35      1552   -840\n",
       "7   36, 40      1151   -815\n",
       "8   41, 45       808   -712\n",
       "9   46, 50       642   -652\n",
       "10  51, 55       549   -663\n",
       "11  56, 60       326   -603\n",
       "12  61, 65       252   -380\n",
       "13  66, 70       159   -249\n",
       "14  71, 75        98   -184\n",
       "15  76, 80        37    -84\n",
       "16  81, 85        15    -24\n",
       "17  86, 90         2     -5\n",
       "18  91, 95         1     -2"
      ]
     },
     "execution_count": 156,
     "metadata": {},
     "output_type": "execute_result"
    }
   ],
   "source": [
    "df = pd.DataFrame({'Age': age_classes_str, \n",
    "                    'External': list(l_ext), \n",
    "                    'Basel': [e * -1 for e in list(l_bas)]})\n",
    "df"
   ]
  },
  {
   "cell_type": "code",
   "execution_count": 157,
   "metadata": {},
   "outputs": [],
   "source": [
    "age_classes_str.reverse()\n",
    "age_classes_str_rev = copy.deepcopy(age_classes_str)\n",
    "age_classes_str.reverse()"
   ]
  },
  {
   "cell_type": "code",
   "execution_count": 158,
   "metadata": {},
   "outputs": [
    {
     "data": {
      "text/plain": [
       "(['91, 95', '86, 90', '81, 85', '76, 80'],\n",
       " ['1, 5', '6, 10', '11, 15', '16, 20'])"
      ]
     },
     "execution_count": 158,
     "metadata": {},
     "output_type": "execute_result"
    }
   ],
   "source": [
    "age_classes_str_rev[:4], age_classes_str[:4]"
   ]
  },
  {
   "cell_type": "code",
   "execution_count": 159,
   "metadata": {},
   "outputs": [
    {
     "data": {
      "text/plain": [
       "[]"
      ]
     },
     "execution_count": 159,
     "metadata": {},
     "output_type": "execute_result"
    },
    {
     "data": {
      "image/png": "[encoded data removed]",
      "text/plain": [
       "<Figure size 1152x864 with 1 Axes>"
      ]
     },
     "metadata": {},
     "output_type": "display_data"
    }
   ],
   "source": [
    "\n",
    "# https://towardsdatascience.com/different-bar-charts-in-python-6d984b9c6b17\n",
    "\n",
    "# Prepare Data\n",
    "plt.rcParams[\"figure.figsize\"] = (16, 12)\n",
    "\n",
    "#Class\n",
    "AgeClass = age_classes_str_rev\n",
    "#Chart\n",
    "bar_plot = sns.barplot(x='External', y='Age', data=df, order=AgeClass, lw=0, palette=\"Spectral\")\n",
    "bar_plot = sns.barplot(x='Basel', y='Age', data=df, order=AgeClass, lw=0, palette=\"PRGn\")\n",
    "plt.title(\"Pyramid Origins — Distribution of Ages\", fontsize=12)\n",
    "plt.xlabel(\"Basel — External\")\n",
    "plt.savefig('graphics/pyramid_origins_age_1860.jpg')\n",
    "plt.plot()\n"
   ]
  },
  {
   "cell_type": "code",
   "execution_count": null,
   "metadata": {},
   "outputs": [],
   "source": []
  },
  {
   "cell_type": "code",
   "execution_count": 160,
   "metadata": {},
   "outputs": [
    {
     "data": {
      "text/html": [
       "<div>\n",
       "<style scoped>\n",
       "    .dataframe tbody tr th:only-of-type {\n",
       "        vertical-align: middle;\n",
       "    }\n",
       "\n",
       "    .dataframe tbody tr th {\n",
       "        vertical-align: top;\n",
       "    }\n",
       "\n",
       "    .dataframe thead th {\n",
       "        text-align: right;\n",
       "    }\n",
       "</style>\n",
       "<table border=\"1\" class=\"dataframe\">\n",
       "  <thead>\n",
       "    <tr style=\"text-align: right;\">\n",
       "      <th></th>\n",
       "      <th>year</th>\n",
       "      <th>origin</th>\n",
       "    </tr>\n",
       "  </thead>\n",
       "  <tbody>\n",
       "    <tr>\n",
       "      <th>0</th>\n",
       "      <td>1807</td>\n",
       "      <td>Halbkanton Basel-Stadt</td>\n",
       "    </tr>\n",
       "    <tr>\n",
       "      <th>1</th>\n",
       "      <td>1807</td>\n",
       "      <td>Halbkanton Basel-Stadt</td>\n",
       "    </tr>\n",
       "    <tr>\n",
       "      <th>2</th>\n",
       "      <td>1811</td>\n",
       "      <td>Großherzogtum Baden</td>\n",
       "    </tr>\n",
       "    <tr>\n",
       "      <th>3</th>\n",
       "      <td>1797</td>\n",
       "      <td>Halbkanton Basel-Landschaft</td>\n",
       "    </tr>\n",
       "    <tr>\n",
       "      <th>4</th>\n",
       "      <td>1854</td>\n",
       "      <td>Halbkanton Basel-Stadt</td>\n",
       "    </tr>\n",
       "    <tr>\n",
       "      <th>...</th>\n",
       "      <td>...</td>\n",
       "      <td>...</td>\n",
       "    </tr>\n",
       "    <tr>\n",
       "      <th>27998</th>\n",
       "      <td>1809</td>\n",
       "      <td>Kanton Aargau</td>\n",
       "    </tr>\n",
       "    <tr>\n",
       "      <th>27999</th>\n",
       "      <td>1826</td>\n",
       "      <td>Großherzogtum Baden</td>\n",
       "    </tr>\n",
       "    <tr>\n",
       "      <th>28000</th>\n",
       "      <td>1834</td>\n",
       "      <td>Halbkanton Basel-Stadt</td>\n",
       "    </tr>\n",
       "    <tr>\n",
       "      <th>28001</th>\n",
       "      <td>1793</td>\n",
       "      <td>Halbkanton Basel-Stadt</td>\n",
       "    </tr>\n",
       "    <tr>\n",
       "      <th>28002</th>\n",
       "      <td>1839</td>\n",
       "      <td>Halbkanton Basel-Landschaft</td>\n",
       "    </tr>\n",
       "  </tbody>\n",
       "</table>\n",
       "<p>28003 rows × 2 columns</p>\n",
       "</div>"
      ],
      "text/plain": [
       "       year                       origin\n",
       "0      1807       Halbkanton Basel-Stadt\n",
       "1      1807       Halbkanton Basel-Stadt\n",
       "2      1811          Großherzogtum Baden\n",
       "3      1797  Halbkanton Basel-Landschaft\n",
       "4      1854       Halbkanton Basel-Stadt\n",
       "...     ...                          ...\n",
       "27998  1809                Kanton Aargau\n",
       "27999  1826          Großherzogtum Baden\n",
       "28000  1834       Halbkanton Basel-Stadt\n",
       "28001  1793       Halbkanton Basel-Stadt\n",
       "28002  1839  Halbkanton Basel-Landschaft\n",
       "\n",
       "[28003 rows x 2 columns]"
      ]
     },
     "execution_count": 160,
     "metadata": {},
     "output_type": "execute_result"
    }
   ],
   "source": [
    "year_origin = pd.DataFrame(res_1, columns = ['year','origin'])\n",
    "year_origin['year'] = year_origin['year'].apply(lambda x : int(x))\n",
    "year_origin"
   ]
  },
  {
   "cell_type": "code",
   "execution_count": 161,
   "metadata": {},
   "outputs": [
    {
     "data": {
      "image/png": "[encoded data removed]",
      "text/plain": [
       "<Figure size 1152x576 with 1 Axes>"
      ]
     },
     "metadata": {},
     "output_type": "display_data"
    }
   ],
   "source": [
    "### https://seaborn.pydata.org/generated/seaborn.violinplot.html\n",
    "sns.set(font_scale = 1.2)\n",
    "ax = sns.catplot(kind=\"violin\", x=\"year\", y=\"origin\", orient=\"h\", height=8,aspect=2, \n",
    "                    data=year_origin \\\n",
    "                 , palette=['lightblue','violet'], split=True)\n",
    "plt.xlabel(\"Birth Year\")\n",
    "plt.ylabel(\"State of Origin\")\n",
    "plt.title(\"Birth Years per State of Origin\", fontsize=14)\n",
    "plt.savefig('graphics/birth_years_state_of_origin.jpg')"
   ]
  },
  {
   "cell_type": "code",
   "execution_count": null,
   "metadata": {},
   "outputs": [],
   "source": []
  }
 ],
 "metadata": {
  "kernelspec": {
   "display_name": "Py 3.9 Histoire Numérique",
   "language": "python",
   "name": "py3-9_hist-num"
  },
  "language_info": {
   "codemirror_mode": {
    "name": "ipython",
    "version": 3
   },
   "file_extension": ".py",
   "mimetype": "text/x-python",
   "name": "python",
   "nbconvert_exporter": "python",
   "pygments_lexer": "ipython3",
   "version": "3.9.10"
  }
 },
 "nbformat": 4,
 "nbformat_minor": 4
}
